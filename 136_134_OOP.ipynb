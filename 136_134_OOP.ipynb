{
 "cells": [
  {
   "cell_type": "code",
   "execution_count": 8,
   "metadata": {},
   "outputs": [],
   "source": [
    "# Super method\n",
    "class User:\n",
    "    def __init__(self, name, power, email):\n",
    "        self.email = email\n",
    "        self.name = name\n",
    "        self.power = power\n",
    "    \n",
    "    def sign_in(self):\n",
    "        print(f'{self.name} is now signed in')\n",
    "\n",
    "    def attack(self):\n",
    "        print('I\\'m a method of User class')\n",
    "\n",
    "class Wizard(User):\n",
    "    def __init__(self, name, power, email):\n",
    "        super().__init__(name, power, email)  # Can use User.__init__(self, email) since this is an attribute inherited from it\n",
    "        # Since the super calss takes these parameters in the construtor method of the User class so to use email, i still had to pass all 3 \n",
    "        self.name = name\n",
    "        self.power = power\n",
    "\n",
    "\n",
    "    def attack(self):\n",
    "        User.attack(self)\n",
    "        print(f'{self.name} is attacking with {self.power} power and has email {self.email}')\n",
    "\n",
    "class Archer(User):\n",
    "    def __init__(self, name, arrows):\n",
    "        self.name = name\n",
    "        self.arrows = arrows\n",
    "\n",
    "    def attack(self):\n",
    "        print(f'{self.name} is attacking with {self.arrows} arrows')   \n",
    "\n",
    "\n",
    "\n"
   ]
  },
  {
   "cell_type": "code",
   "execution_count": 9,
   "metadata": {},
   "outputs": [
    {
     "name": "stdout",
     "output_type": "stream",
     "text": [
      "I'm a method of User class\n",
      "Merlin is attacking with 100 power and has email merlin@gmail.com\n",
      "Robin is attacking with 200 arrows\n",
      "Merlin is now signed in\n",
      "Robin is now signed in\n"
     ]
    }
   ],
   "source": [
    "wizard1 = Wizard('Merlin', 100, 'merlin@gmail.com')\n",
    "archer1 = Archer('Robin', 200)\n",
    "\n",
    "wizard1.attack()\n",
    "archer1.attack()\n",
    "wizard1.sign_in()\n",
    "archer1.sign_in()"
   ]
  },
  {
   "cell_type": "code",
   "execution_count": 13,
   "metadata": {},
   "outputs": [
    {
     "data": {
      "text/plain": [
       "[5]"
      ]
     },
     "execution_count": 13,
     "metadata": {},
     "output_type": "execute_result"
    }
   ],
   "source": [
    "class SuperList(list):\n",
    "    def __len__(self):\n",
    "        return 1000\n",
    "\n",
    "superlist = SuperList()\n",
    "\n",
    "len(superlist)\n",
    "superlist.append(5)\n",
    "superlist"
   ]
  },
  {
   "cell_type": "code",
   "execution_count": 14,
   "metadata": {},
   "outputs": [
    {
     "name": "stdout",
     "output_type": "stream",
     "text": [
      "red\n",
      "red\n",
      "5\n",
      "yes??\n",
      "Yoyo\n"
     ]
    }
   ],
   "source": [
    "#By reading the python documentation, add 3 more magic/dunder methods of your choice to this Toy class.\n",
    "class Toy():\n",
    "  def __init__(self, color, age):\n",
    "    self.color = color\n",
    "    self.age = age\n",
    "    self.my_dict = {\n",
    "        'name': 'Yoyo',\n",
    "        'has_pets': False,\n",
    "    }\n",
    "\n",
    "  def __str__(self):\n",
    "    return f\"{self.color}\"\n",
    "\n",
    "  def __len__(self):\n",
    "    return 5\n",
    "\n",
    "  def __del__(self):\n",
    "    return \"deleted\"\n",
    "\n",
    "  def __call__(self):\n",
    "      return('yes??')\n",
    "\n",
    "  def __getitem__(self, i):\n",
    "      return self.my_dict[i]\n",
    "\n",
    "\n",
    "action_figure = Toy('red', 0)\n",
    "print(action_figure.__str__())\n",
    "print(str(action_figure))\n",
    "print(len(action_figure))\n",
    "print(action_figure())\n",
    "print(action_figure['name'])\n"
   ]
  },
  {
   "cell_type": "code",
   "execution_count": 5,
   "metadata": {},
   "outputs": [],
   "source": [
    "# Multiple inheritance\n",
    "\n",
    "\n",
    "# Super method\n",
    "class User:\n",
    "    def __init__(self, name, email):\n",
    "        self.email = email\n",
    "        self.name = name\n",
    "        # self.power = power\n",
    "\n",
    "    def sign_in(self):\n",
    "        print(f'{self.name} is now signed in')\n",
    "\n",
    "    def attack(self):\n",
    "        print('I\\'m a method of User class')\n",
    "\n",
    "\n",
    "class Wizard(User):\n",
    "    def __init__(self, name, power, email):\n",
    "        # Can use User.__init__(self, email) since this is an attribute inherited from it\n",
    "        User.__init__(self, name, email)\n",
    "        # Since the super calss takes these parameters in the construtor method of the User class so to use email, i still had to pass all 3\n",
    "        # self.name = name\n",
    "        # User.__init__(self, name)\n",
    "        self.power = power\n",
    "\n",
    "    def attack(self):\n",
    "        User.attack(self)\n",
    "        print(\n",
    "            f'{self.name} is attacking with {self.power} power and has email {self.email}')\n",
    "\n",
    "\n",
    "class Archer(User):\n",
    "    def __init__(self, name, arrows, email):\n",
    "        User.__init__(self, name, email)\n",
    "        self.arrows = arrows\n",
    "\n",
    "    def attack(self):\n",
    "        print(f'{self.name} is attacking with {self.arrows} arrows')\n",
    "\n",
    "# I modified quite a few things to fix the multiple inheritance problem here. \n",
    "# I changed the wizard class to use the class reference instead of super as it was erroring out\n",
    "# I then defined the parameters as below\n",
    "class HybridBorg(Wizard, Archer): # notice the first class passed, that's the MRO order(Method resolution order)\n",
    "    def __init__(self, name, power, arrows, email):\n",
    "        Wizard.__init__(self, name, power, email)\n",
    "        Archer.__init__(self, name, arrows, email)\n",
    "        # User.__init__(self, name, power, email)\n"
   ]
  },
  {
   "cell_type": "code",
   "execution_count": 6,
   "metadata": {},
   "outputs": [
    {
     "name": "stdout",
     "output_type": "stream",
     "text": [
      "Cyborg is now signed in\n",
      "I'm a method of User class\n",
      "Cyborg is attacking with 100 power and has email some@cyborg\n"
     ]
    }
   ],
   "source": [
    "hb1 = HybridBorg('Cyborg', 100, 150, 'some@cyborg')\n",
    "hb1.sign_in()\n",
    "hb1.attack() # see the attack method is inheritted from Wizard as it was passed first"
   ]
  },
  {
   "cell_type": "code",
   "execution_count": null,
   "metadata": {},
   "outputs": [],
   "source": []
  },
  {
   "cell_type": "code",
   "execution_count": null,
   "metadata": {},
   "outputs": [],
   "source": []
  }
 ],
 "metadata": {
  "interpreter": {
   "hash": "df955ce39d0f31d56d4bb2fe0a613e5326ba60723fd33d8303a3aede8f65715c"
  },
  "kernelspec": {
   "display_name": "Python 3",
   "language": "python",
   "name": "python3"
  },
  "language_info": {
   "codemirror_mode": {
    "name": "ipython",
    "version": 3
   },
   "file_extension": ".py",
   "mimetype": "text/x-python",
   "name": "python",
   "nbconvert_exporter": "python",
   "pygments_lexer": "ipython3",
   "version": "3.7.5"
  },
  "orig_nbformat": 4
 },
 "nbformat": 4,
 "nbformat_minor": 2
}
