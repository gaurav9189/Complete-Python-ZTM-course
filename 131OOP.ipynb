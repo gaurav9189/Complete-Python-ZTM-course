{
 "cells": [
  {
   "cell_type": "code",
   "execution_count": 17,
   "metadata": {},
   "outputs": [
    {
     "name": "stdout",
     "output_type": "stream",
     "text": [
      "User is signed in\n",
      "do nothing cuz it's user function\n",
      "attacking with power of 50\n",
      "User is signed in\n",
      "attacking with arrows: 500\n"
     ]
    }
   ],
   "source": [
    "# Learning inheritance\n",
    "\n",
    "class User:\n",
    "    def sign_in(self):\n",
    "        print('User is signed in')\n",
    "    \n",
    "    def attack(self):  # This is to demonstrate polymorphism. Even with shared method names you can pass this to other classes\n",
    "        print('do nothing cuz it\\'s user function' )\n",
    "\n",
    "\n",
    "class Wizard(User):\n",
    "    def __init__(self, name, power):\n",
    "        self.name = name\n",
    "        self.power = power\n",
    "\n",
    "    def attack(self):\n",
    "        User.attack(self)\n",
    "        print(f'attacking with power of {self.power}')\n",
    "\n",
    "\n",
    "class Archer(User):\n",
    "    def __init__(self, name, num_arrows):\n",
    "        self.name = name\n",
    "        self.num_arrows = num_arrows\n",
    "\n",
    "    def attack(self):\n",
    "        print(f'attacking with arrows: {self.num_arrows}')\n",
    "\n",
    "\n",
    "wizard1 = Wizard('Merlin', 50)\n",
    "\n",
    "archer1 = Archer('Robin', 500)\n",
    "\n",
    "wizard1.sign_in()\n",
    "wizard1.attack()\n",
    "archer1.sign_in()\n",
    "archer1.attack()\n",
    "\n"
   ]
  },
  {
   "cell_type": "code",
   "execution_count": 15,
   "metadata": {},
   "outputs": [
    {
     "name": "stdout",
     "output_type": "stream",
     "text": [
      "attacking with power of 50\n",
      "None\n",
      "attacking with arrows: 500\n",
      "None\n",
      "attacking with power of 50\n",
      "None\n",
      "attacking with arrows: 500\n",
      "None\n"
     ]
    }
   ],
   "source": [
    "# Now polymorphism actually means we can do many things with one function on various classes\n",
    "\n",
    "def my_attack(char):\n",
    "    print(char.attack())\n",
    "\n",
    "\n",
    "my_attack(wizard1)\n",
    "my_attack(archer1)\n",
    "\n",
    "# another way\n",
    "\n",
    "for i in [wizard1, archer1]:\n",
    "    print(i.attack())\n"
   ]
  },
  {
   "cell_type": "code",
   "execution_count": 19,
   "metadata": {},
   "outputs": [],
   "source": [
    "# Another idea to run polymorphism is stated above in the first cell using the attack method in the sub-class\n"
   ]
  },
  {
   "cell_type": "code",
   "execution_count": 24,
   "metadata": {},
   "outputs": [
    {
     "name": "stdout",
     "output_type": "stream",
     "text": [
      "Simon is just walking around\n",
      "Sally is just walking around\n",
      "Garfield is just walking around\n"
     ]
    }
   ],
   "source": [
    "class Pets():\n",
    "    animals = []\n",
    "\n",
    "    def __init__(self, animals):\n",
    "        self.animals = animals\n",
    "\n",
    "    def walk(self):\n",
    "        for animal in self.animals:\n",
    "            print(animal.walk())\n",
    "\n",
    "\n",
    "class Cat():\n",
    "    is_lazy = True\n",
    "\n",
    "    def __init__(self, name, age):\n",
    "        self.name = name\n",
    "        self.age = age\n",
    "\n",
    "    def walk(self):\n",
    "        return f'{self.name} is just walking around'\n",
    "\n",
    "\n",
    "class Simon(Cat):\n",
    "    def sing(self, sounds):\n",
    "        return f'{sounds}'\n",
    "\n",
    "\n",
    "class Sally(Cat):\n",
    "    def sing(self, sounds):\n",
    "        return f'{sounds}'\n",
    "\n",
    "#1 Add nother Cat\n",
    "class Garfield(Cat):\n",
    "     def sing(self, sounds):\n",
    "        return f'{sounds}'\n",
    "#2 Create a list of all of the pets (create 3 cat instances from the above)\n",
    "cat1 = Simon('Simon', 10)\n",
    "cat2 = Sally('Sally', 14)\n",
    "cat3 = Garfield('Garfield', 21)\n",
    "my_cats = [cat1, cat2, cat3]\n",
    "\n",
    "#3 Instantiate the Pet class with all your cats use variable my_pets\n",
    "my_pets = Pets(my_cats)\n",
    "#4 Output all of the cats walking using the my_pets instance\n",
    "my_pets.walk()"
   ]
  },
  {
   "cell_type": "code",
   "execution_count": null,
   "metadata": {},
   "outputs": [],
   "source": []
  }
 ],
 "metadata": {
  "interpreter": {
   "hash": "df955ce39d0f31d56d4bb2fe0a613e5326ba60723fd33d8303a3aede8f65715c"
  },
  "kernelspec": {
   "display_name": "Python 3",
   "language": "python",
   "name": "python3"
  },
  "language_info": {
   "codemirror_mode": {
    "name": "ipython",
    "version": 3
   },
   "file_extension": ".py",
   "mimetype": "text/x-python",
   "name": "python",
   "nbconvert_exporter": "python",
   "pygments_lexer": "ipython3",
   "version": "3.7.5"
  },
  "orig_nbformat": 4
 },
 "nbformat": 4,
 "nbformat_minor": 2
}
