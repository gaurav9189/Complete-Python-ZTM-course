{
 "cells": [
  {
   "cell_type": "code",
   "execution_count": 35,
   "metadata": {},
   "outputs": [
    {
     "name": "stdout",
     "output_type": "stream",
     "text": [
      "im Tom and im 54 yrs\n"
     ]
    }
   ],
   "source": [
    "# 121 Exercise\n",
    "# Given the below class:\n",
    "class Cat:\n",
    "    species = 'mammal'\n",
    "\n",
    "    def __init__(self, name, age):\n",
    "        self.name = name\n",
    "        self.age = age\n",
    "\n",
    "\n",
    "cat1 = Cat('Bob', 10)\n",
    "cat2 = Cat('Tim', 14)\n",
    "cat3 = Cat('Gar', 12)\n",
    "cat4 = Cat('Tom', 54)\n",
    "\n",
    "\n",
    "def oldcat(*args):\n",
    "    li = []\n",
    "    for i in args:\n",
    "        li.append(i.age)\n",
    "    for c in args:\n",
    "        if c.age == max(li):\n",
    "            oldest = c.age\n",
    "            return(f'im {c.name} and im {oldest} yrs')\n",
    "\n",
    "    # return (f'im {c.name} and im {oldest} yrs')\n",
    "\n",
    "\n",
    "print(oldcat(cat1, cat2, cat3, cat4))\n"
   ]
  },
  {
   "cell_type": "code",
   "execution_count": 45,
   "metadata": {},
   "outputs": [],
   "source": [
    "# Let's understand what self is in bit more detail\n",
    "\n",
    "class Car:\n",
    "    def __init__(self):\n",
    "        self = self\n",
    "        # self.make = make\n",
    "        # self.model = model\n",
    "        # self.year = year\n",
    "    def some_fun(self):\n",
    "        return self\n",
    "\n",
    "car1= Car()\n"
   ]
  },
  {
   "cell_type": "code",
   "execution_count": 73,
   "metadata": {},
   "outputs": [
    {
     "name": "stdout",
     "output_type": "stream",
     "text": [
      "<__main__.Car object at 0x10b2ecc50>\n",
      "<__main__.Car object at 0x10b2ec0d0>\n",
      "<class '__main__.Car'>\n",
      "<__main__.Car object at 0x10b2ecc50>\n"
     ]
    }
   ],
   "source": [
    "car1 = Car()\n",
    "car2 = Car()\n",
    "print(car1) #car1 is an object as stated below\n",
    "print(car2)\n",
    "print(type(car1)) # because the 'type' is the class of the object from which the object was instantiated\n",
    "print(car1.some_fun()) #self returns the object itself, that's what self is\n"
   ]
  },
  {
   "cell_type": "code",
   "execution_count": 68,
   "metadata": {},
   "outputs": [],
   "source": [
    "class Player:\n",
    "    is_member = True\n",
    "    def __init__(self, name, age, weapon):\n",
    "        if Player.is_member:  #This is a class object attribute which can be accessed by all objects, but this is a static value\n",
    "            self.name = name\n",
    "            self.age = age\n",
    "            self.weapon = weapon\n",
    "    \n",
    "\n",
    "    def attack(self):\n",
    "        return f'attacking with {self.weapon}'\n",
    "\n",
    "    def run(self):\n",
    "        return f'running at the age of {self.age}'\n",
    "\n",
    "    \n"
   ]
  },
  {
   "cell_type": "code",
   "execution_count": 78,
   "metadata": {},
   "outputs": [],
   "source": [
    "player1 = Player('Gaurav', '33', 'sword')\n",
    "player2 = Player('Deepali', '31', 'emotions')\n",
    "player1.is_member=False"
   ]
  },
  {
   "cell_type": "code",
   "execution_count": 80,
   "metadata": {},
   "outputs": [
    {
     "name": "stdout",
     "output_type": "stream",
     "text": [
      "attacking with sword\n",
      "False\n",
      "True\n"
     ]
    }
   ],
   "source": [
    "print(player1.attack())\n",
    "print(player1.is_member)\n",
    "print(player2.is_member)"
   ]
  },
  {
   "cell_type": "code",
   "execution_count": 35,
   "metadata": {},
   "outputs": [],
   "source": [
    "class SuperCar:\n",
    "    def __init__(self, model, make, year):\n",
    "        self.model = model\n",
    "        self.make = make\n",
    "        self.year = year\n",
    "\n",
    "    def start(self):\n",
    "        return f'room roooom your {self.model} {self.make} is ready'\n",
    "\n",
    "\n",
    "scar0 = SuperCar('Mercedes', 'GLA', 2000)\n",
    "scar1 = SuperCar('Honda', 'CRV', 1989)\n",
    "scar2 = SuperCar('Toyota', 'CHR', 2022)\n",
    "scar3 = SuperCar('BMW', 'X1', 2019)\n",
    "\n"
   ]
  },
  {
   "cell_type": "code",
   "execution_count": 37,
   "metadata": {},
   "outputs": [
    {
     "data": {
      "text/plain": [
       "'the oldest car is Honda CRV yr 1989'"
      ]
     },
     "execution_count": 37,
     "metadata": {},
     "output_type": "execute_result"
    }
   ],
   "source": [
    "# Oldest car\n",
    "scars = [scar0, scar1, scar2, scar3]\n",
    "\n",
    "def oldest(scars):\n",
    "    old = 100000\n",
    "    for i in scars:\n",
    "        if i.year < old:\n",
    "            old = i.year\n",
    "            # print(old)\n",
    "    for c in scars:\n",
    "        if c.year == old:\n",
    "            return f'the oldest car is {c.model} {c.make} yr {c.year}'\n",
    "    # print (f'the oldest car is {old} yrs old')\n",
    "\n",
    "oldest(scars)\n",
    "        "
   ]
  },
  {
   "cell_type": "code",
   "execution_count": 37,
   "metadata": {},
   "outputs": [],
   "source": [
    "class PlayerCharacter:\n",
    "    is_member = True\n",
    "    def __init__(self, name, age):\n",
    "        self.name = name\n",
    "        self.age = age\n",
    "        # return self('Goku', '1002')\n",
    "    \n",
    "    def power(self, num):  # self is passed to the method to access attributes of the class\n",
    "        print(f'hi {self.name} your power is {num}')\n",
    "        # return PlayerCharacter('Kamal', '100') -> you can't use self here cuz self is the instance of the class. Here i'm returning the class itself which is instantiated by this way\n",
    "    \n",
    "    @classmethod\n",
    "    def special_power(cls, weapon, skill): #cls refers to the class itself\n",
    "        cls.weapon = weapon\n",
    "        cls.skill = skill\n",
    "        # cls.name = name\n",
    "        # cls.age = age\n",
    "        name1 = cls('Golem', 1000).name #this is another instanitation of the PlayerCharacter class\n",
    "        age1 = cls('Golem', 1000).age\n",
    "        return(f'{name1} using- {cls.weapon} with skill- {cls.skill} of {age1} yrs old')\n",
    "    \n",
    "    @staticmethod\n",
    "    def health_vial(vial, health):\n",
    "        print(f'you have {vial} vials and your health points are {health}')\n",
    "\n",
    "\n"
   ]
  },
  {
   "cell_type": "code",
   "execution_count": 38,
   "metadata": {},
   "outputs": [
    {
     "name": "stdout",
     "output_type": "stream",
     "text": [
      "hi gandeev your power is 100\n"
     ]
    }
   ],
   "source": [
    "player1 = PlayerCharacter('gandeev', '20') #This needs to be instantiated\n",
    "player1.power(100)\n"
   ]
  },
  {
   "cell_type": "code",
   "execution_count": 39,
   "metadata": {},
   "outputs": [
    {
     "data": {
      "text/plain": [
       "'Golem using- Sword with skill- Wizard of 1000 yrs old'"
      ]
     },
     "execution_count": 39,
     "metadata": {},
     "output_type": "execute_result"
    }
   ],
   "source": [
    "player3 = PlayerCharacter.special_power('Sword', 'Wizard')\n",
    "player3\n",
    "# However if you notice player3 is not required to be instantiaed and works with the classmethod decorator"
   ]
  },
  {
   "cell_type": "code",
   "execution_count": 41,
   "metadata": {},
   "outputs": [
    {
     "name": "stdout",
     "output_type": "stream",
     "text": [
      "you have 10 vials and your health points are 100\n"
     ]
    }
   ],
   "source": [
    "player4 = PlayerCharacter.health_vial(10, 100)\n",
    "#Again the class was not instanitated"
   ]
  },
  {
   "cell_type": "code",
   "execution_count": 43,
   "metadata": {},
   "outputs": [
    {
     "name": "stdout",
     "output_type": "stream",
     "text": [
      "gandeev\n"
     ]
    }
   ],
   "source": [
    "print(player1.name)"
   ]
  },
  {
   "cell_type": "code",
   "execution_count": 10,
   "metadata": {},
   "outputs": [],
   "source": [
    "class PlayerCharacter:\n",
    "    is_member = True\n",
    "    def __init__(self, name, age):\n",
    "        self.name = name\n",
    "        self.age = age\n",
    "        # return self('Goku', '1002')\n",
    "    \n",
    "    def power(self, num):  # self is passed to the method to access attributes of the class\n",
    "        return(self)\n",
    "        # return PlayerCharacter('Kamal', '100') -> you can't use self in place of Playercharacter here cuz self is the instance of the class. Here i'm returning the class itself which is instantiated by this way\n",
    "    \n",
    "    @classmethod\n",
    "    def special_power(cls, weapon, skill): #cls refers to the class itself\n",
    "        cls.weapon = weapon\n",
    "        cls.skill = skill\n",
    "        return cls\n",
    "    \n",
    "    @staticmethod\n",
    "    def health_vial(vial, health):\n",
    "        return staticmethod\n",
    "\n",
    "\n"
   ]
  },
  {
   "cell_type": "code",
   "execution_count": 11,
   "metadata": {},
   "outputs": [
    {
     "name": "stdout",
     "output_type": "stream",
     "text": [
      "<__main__.PlayerCharacter object at 0x108750f10>\n"
     ]
    }
   ],
   "source": [
    "player1 = PlayerCharacter('Gaurav', 33)\n",
    "print(player1.power(2))"
   ]
  },
  {
   "cell_type": "code",
   "execution_count": null,
   "metadata": {},
   "outputs": [],
   "source": []
  },
  {
   "cell_type": "code",
   "execution_count": null,
   "metadata": {},
   "outputs": [],
   "source": []
  },
  {
   "cell_type": "code",
   "execution_count": null,
   "metadata": {},
   "outputs": [],
   "source": []
  },
  {
   "cell_type": "code",
   "execution_count": null,
   "metadata": {},
   "outputs": [],
   "source": []
  },
  {
   "cell_type": "code",
   "execution_count": null,
   "metadata": {},
   "outputs": [],
   "source": []
  },
  {
   "cell_type": "code",
   "execution_count": null,
   "metadata": {},
   "outputs": [],
   "source": []
  },
  {
   "cell_type": "code",
   "execution_count": null,
   "metadata": {},
   "outputs": [],
   "source": []
  }
 ],
 "metadata": {
  "interpreter": {
   "hash": "df955ce39d0f31d56d4bb2fe0a613e5326ba60723fd33d8303a3aede8f65715c"
  },
  "kernelspec": {
   "display_name": "Python 3",
   "language": "python",
   "name": "python3"
  },
  "language_info": {
   "codemirror_mode": {
    "name": "ipython",
    "version": 3
   },
   "file_extension": ".py",
   "mimetype": "text/x-python",
   "name": "python",
   "nbconvert_exporter": "python",
   "pygments_lexer": "ipython3",
   "version": "3.7.5"
  },
  "orig_nbformat": 4
 },
 "nbformat": 4,
 "nbformat_minor": 2
}
